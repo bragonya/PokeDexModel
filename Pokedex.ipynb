{
 "cells": [
  {
   "cell_type": "markdown",
   "metadata": {},
   "source": [
    "### Preparing data"
   ]
  },
  {
   "cell_type": "code",
   "execution_count": 1,
   "metadata": {},
   "outputs": [
    {
     "name": "stderr",
     "output_type": "stream",
     "text": [
      "Using TensorFlow backend.\n"
     ]
    }
   ],
   "source": [
    "import os\n",
    "import random\n",
    "import shutil\n",
    "import pandas as pd\n",
    "import cv2\n",
    "import numpy as np\n",
    "import keras\n",
    "from keras.models import Sequential,Model\n",
    "from keras.layers import Dense, Activation, Flatten, Dropout, BatchNormalization\n",
    "from keras.layers import Conv2D, MaxPooling2D, AveragePooling2D\n",
    "from keras import regularizers\n",
    "from keras.layers import LeakyReLU, ELU"
   ]
  },
  {
   "cell_type": "code",
   "execution_count": 2,
   "metadata": {},
   "outputs": [],
   "source": [
    "class DataGenerator:\n",
    "\tDATASET_DIR = \"C:\\\\Users\\\\ASUS\\\\Documents\\\\Proyectos\\\\pokedex\\\\pokemon\"\n",
    "\n",
    "\tdef __init__(self):\n",
    "\t\tself.category_dirs = os.listdir(DataGenerator.DATASET_DIR)\n",
    "\t\tself.data = pd.DataFrame({}, columns = ['label', 'image']) \n",
    "\t\tself.data_train = pd.DataFrame({}, columns = ['label', 'image']) \n",
    "\t\tself.data_test = pd.DataFrame({}, columns = ['label', 'image']) \n",
    "        \n",
    "\tdef generate(self):\n",
    "\t\tfor category in self.category_dirs:\n",
    "\t\t\tcategory_path = os.path.join(DataGenerator.DATASET_DIR, category)\n",
    "\t\t\tif not os.path.isdir(category_path):\n",
    "\t\t\t\tprint(\"no es directorio valido\")\n",
    "\t\t\t\tcontinue\n",
    "\t\t\timages = os.listdir(category_path)\n",
    "\t\t\tbunch = pd.DataFrame({}, columns = ['label', 'image']) \n",
    "\t\t\tfor img in images:\n",
    "\t\t\t\timgArr = cv2.imread(\"pokemon\\\\\"+str(category)+\"\\\\\"+str(img))\n",
    "\t\t\t\tbunch = bunch.append({'label' : category.upper() , 'image' : imgArr},ignore_index=True)\n",
    "\t\t\t\t#self.data = self.data.append({'label' : category.upper() , 'image' : imgArr},ignore_index=True)\n",
    "\t\t\tmsk = np.random.rand(len(bunch)) < 0.8\n",
    "\t\t\tself.data_train = self.data_train.append(bunch[msk])\n",
    "\t\t\tself.data_test = self.data_test.append(bunch[~msk])"
   ]
  },
  {
   "cell_type": "code",
   "execution_count": null,
   "metadata": {},
   "outputs": [],
   "source": [
    "def createFolderIfNotExists(path):\n",
    "    try:\n",
    "        os.mkdir(path)\n",
    "    except FileExistsError:\n",
    "        #print(\"Directory data_generated already exists\")\n",
    "        return"
   ]
  },
  {
   "cell_type": "code",
   "execution_count": 32,
   "metadata": {},
   "outputs": [
    {
     "name": "stdout",
     "output_type": "stream",
     "text": [
      "numberAnomalies: 33\n"
     ]
    }
   ],
   "source": [
    "DATASET_DIR = \"C:\\\\Users\\\\ASUS\\\\Documents\\\\Proyectos\\\\pokedex\\\\pokemon\"\n",
    "numberAnomalies = 0\n",
    "for category in os.listdir(DATASET_DIR):\n",
    "    category_path = os.path.join(DataGenerator.DATASET_DIR, category)\n",
    "    if not os.path.isdir(category_path):\n",
    "        print(\"no es directorio valido\")\n",
    "        continue\n",
    "    images = os.listdir(category_path)\n",
    "    totalImgs = len(images)\n",
    "    counter = 0\n",
    "    path = \"data\"\n",
    "    createFolderIfNotExists(path)\n",
    "    for img in images:\n",
    "        tempPath = path\n",
    "        #print(counter / totalImgs)\n",
    "        if(counter / totalImgs < 0.7):\n",
    "            tempPath += \"\\\\train\"\n",
    "        elif(counter / totalImgs < 0.85):\n",
    "            tempPath += \"\\\\test\"\n",
    "        else:\n",
    "            tempPath += \"\\\\validation\"\n",
    "        createFolderIfNotExists(tempPath)\n",
    "        tempPath += \"\\\\\"+str(category)\n",
    "        createFolderIfNotExists(tempPath)\n",
    "        tempPath += \"\\\\\"+str(img)\n",
    "        imgArr = cv2.imread(\"pokemon\\\\\"+str(category)+\"\\\\\"+str(img))\n",
    "        try:\n",
    "            cv2.imwrite(tempPath, imgArr) \n",
    "        except:\n",
    "            numberAnomalies += 1\n",
    "                \n",
    "        counter += 1\n",
    "print(\"numberAnomalies: \"+str(numberAnomalies))"
   ]
  },
  {
   "cell_type": "code",
   "execution_count": 2,
   "metadata": {
    "scrolled": false
   },
   "outputs": [],
   "source": [
    "datagen = keras.preprocessing.image.ImageDataGenerator(rescale=1./255,\n",
    "    shear_range=0.1,\n",
    "    zoom_range=0.1,\n",
    "    horizontal_flip=True)"
   ]
  },
  {
   "cell_type": "code",
   "execution_count": 3,
   "metadata": {},
   "outputs": [
    {
     "name": "stdout",
     "output_type": "stream",
     "text": [
      "Found 7529 images belonging to 149 classes.\n",
      "Found 1524 images belonging to 149 classes.\n",
      "Found 1604 images belonging to 149 classes.\n"
     ]
    }
   ],
   "source": [
    "train_it = datagen.flow_from_directory('data\\\\train\\\\', class_mode='categorical', batch_size=32)\n",
    "val_it = datagen.flow_from_directory('data\\\\validation\\\\', class_mode='categorical', batch_size=32)\n",
    "test_it = datagen.flow_from_directory('data\\\\test\\\\', class_mode='categorical', batch_size=32)"
   ]
  },
  {
   "cell_type": "code",
   "execution_count": 54,
   "metadata": {},
   "outputs": [
    {
     "data": {
      "text/plain": [
       "(64, 256, 256, 3)"
      ]
     },
     "execution_count": 54,
     "metadata": {},
     "output_type": "execute_result"
    }
   ],
   "source": [
    "bx,by = train_it.next()\n",
    "np.shape(bx)"
   ]
  },
  {
   "cell_type": "code",
   "execution_count": 4,
   "metadata": {},
   "outputs": [
    {
     "name": "stdout",
     "output_type": "stream",
     "text": [
      "WARNING:tensorflow:From C:\\Users\\ASUS\\Anaconda3\\envs\\galileo_python\\lib\\site-packages\\tensorflow\\python\\framework\\op_def_library.py:263: colocate_with (from tensorflow.python.framework.ops) is deprecated and will be removed in a future version.\n",
      "Instructions for updating:\n",
      "Colocations handled automatically by placer.\n",
      "_________________________________________________________________\n",
      "Layer (type)                 Output Shape              Param #   \n",
      "=================================================================\n",
      "conv2d_1 (Conv2D)            (None, 254, 254, 32)      896       \n",
      "_________________________________________________________________\n",
      "leaky_re_lu_1 (LeakyReLU)    (None, 254, 254, 32)      0         \n",
      "_________________________________________________________________\n",
      "batch_normalization_1 (Batch (None, 254, 254, 32)      128       \n",
      "_________________________________________________________________\n",
      "conv2d_2 (Conv2D)            (None, 252, 252, 32)      9248      \n",
      "_________________________________________________________________\n",
      "leaky_re_lu_2 (LeakyReLU)    (None, 252, 252, 32)      0         \n",
      "_________________________________________________________________\n",
      "batch_normalization_2 (Batch (None, 252, 252, 32)      128       \n",
      "_________________________________________________________________\n",
      "max_pooling2d_1 (MaxPooling2 (None, 126, 126, 32)      0         \n",
      "_________________________________________________________________\n",
      "conv2d_3 (Conv2D)            (None, 124, 124, 64)      18496     \n",
      "_________________________________________________________________\n",
      "leaky_re_lu_3 (LeakyReLU)    (None, 124, 124, 64)      0         \n",
      "_________________________________________________________________\n",
      "batch_normalization_3 (Batch (None, 124, 124, 64)      256       \n",
      "_________________________________________________________________\n",
      "conv2d_4 (Conv2D)            (None, 122, 122, 64)      36928     \n",
      "_________________________________________________________________\n",
      "leaky_re_lu_4 (LeakyReLU)    (None, 122, 122, 64)      0         \n",
      "_________________________________________________________________\n",
      "batch_normalization_4 (Batch (None, 122, 122, 64)      256       \n",
      "_________________________________________________________________\n",
      "max_pooling2d_2 (MaxPooling2 (None, 61, 61, 64)        0         \n",
      "_________________________________________________________________\n",
      "flatten_1 (Flatten)          (None, 238144)            0         \n",
      "_________________________________________________________________\n",
      "dense_1 (Dense)              (None, 149)               35483605  \n",
      "=================================================================\n",
      "Total params: 35,549,941\n",
      "Trainable params: 35,549,557\n",
      "Non-trainable params: 384\n",
      "_________________________________________________________________\n"
     ]
    }
   ],
   "source": [
    "model = Sequential()\n",
    "model.add(Conv2D(32, (3,3),kernel_regularizer=regularizers.l2(1e-4),input_shape=(256, 256, 3)))\n",
    "model.add(LeakyReLU(alpha=0.1))\n",
    "model.add(BatchNormalization())\n",
    "model.add(Conv2D(32, (3,3),kernel_regularizer=regularizers.l2(1e-4)))\n",
    "model.add(LeakyReLU(alpha=0.1))\n",
    "model.add(BatchNormalization())\n",
    "model.add(MaxPooling2D(pool_size=(2,2)))\n",
    " \n",
    "model.add(Conv2D(64, (3,3),kernel_regularizer=regularizers.l2(1e-4)))\n",
    "model.add(LeakyReLU(alpha=0.1))\n",
    "model.add(BatchNormalization())\n",
    "model.add(Conv2D(64, (3,3),kernel_regularizer=regularizers.l2(1e-4)))\n",
    "model.add(LeakyReLU(alpha=0.1))\n",
    "model.add(BatchNormalization())\n",
    "model.add(MaxPooling2D(pool_size=(2,2)))\n",
    "\n",
    "\n",
    "model.add(Flatten())\n",
    "model.add(Dense(149, activation='sigmoid'))\n",
    " \n",
    "model.summary()"
   ]
  },
  {
   "cell_type": "code",
   "execution_count": 5,
   "metadata": {},
   "outputs": [
    {
     "name": "stdout",
     "output_type": "stream",
     "text": [
      "WARNING:tensorflow:From C:\\Users\\ASUS\\Anaconda3\\envs\\galileo_python\\lib\\site-packages\\tensorflow\\python\\ops\\math_ops.py:3066: to_int32 (from tensorflow.python.ops.math_ops) is deprecated and will be removed in a future version.\n",
      "Instructions for updating:\n",
      "Use tf.cast instead.\n",
      "Epoch 1/50\n",
      "16/16 [==============================] - 12s 746ms/step - loss: 11.7789 - acc: 0.0117 - val_loss: 13.8669 - val_acc: 0.0156\n",
      "Epoch 2/50\n",
      "16/16 [==============================] - 10s 642ms/step - loss: 10.2995 - acc: 0.0078 - val_loss: 13.5657 - val_acc: 0.0195\n",
      "Epoch 3/50\n",
      "16/16 [==============================] - 11s 664ms/step - loss: 10.1953 - acc: 0.0137 - val_loss: 10.3432 - val_acc: 0.0000e+00\n",
      "Epoch 4/50\n",
      "16/16 [==============================] - 11s 658ms/step - loss: 9.2284 - acc: 0.0039 - val_loss: 9.6452 - val_acc: 0.0000e+00\n",
      "Epoch 5/50\n",
      "16/16 [==============================] - 10s 634ms/step - loss: 9.8731 - acc: 0.0039 - val_loss: 10.5221 - val_acc: 0.0000e+00\n",
      "Epoch 6/50\n",
      "16/16 [==============================] - 11s 681ms/step - loss: 9.2849 - acc: 0.0098 - val_loss: 12.8470 - val_acc: 0.0164\n",
      "Epoch 7/50\n",
      "16/16 [==============================] - 11s 676ms/step - loss: 9.1984 - acc: 0.0156 - val_loss: 8.6334 - val_acc: 0.0039\n",
      "Epoch 8/50\n",
      "16/16 [==============================] - 11s 658ms/step - loss: 8.9354 - acc: 0.0117 - val_loss: 11.4853 - val_acc: 0.0234\n",
      "Epoch 9/50\n",
      "16/16 [==============================] - 10s 618ms/step - loss: 8.9789 - acc: 0.0098 - val_loss: 12.9797 - val_acc: 0.0195\n",
      "Epoch 10/50\n",
      "16/16 [==============================] - 10s 634ms/step - loss: 9.1720 - acc: 0.0039 - val_loss: 11.6859 - val_acc: 0.0195\n",
      "Epoch 11/50\n",
      "16/16 [==============================] - 10s 638ms/step - loss: 8.5825 - acc: 0.0078 - val_loss: 12.3743 - val_acc: 0.0195\n",
      "Epoch 12/50\n",
      "16/16 [==============================] - 11s 659ms/step - loss: 9.1414 - acc: 0.0059 - val_loss: 11.8571 - val_acc: 0.0123\n",
      "Epoch 13/50\n",
      "16/16 [==============================] - 11s 662ms/step - loss: 7.9064 - acc: 0.0039 - val_loss: 10.8889 - val_acc: 0.0117\n",
      "Epoch 14/50\n",
      "16/16 [==============================] - 11s 662ms/step - loss: 8.3917 - acc: 0.0098 - val_loss: 12.0341 - val_acc: 0.0000e+00\n",
      "Epoch 15/50\n",
      "16/16 [==============================] - 10s 614ms/step - loss: 8.7843 - acc: 0.0078 - val_loss: 12.7509 - val_acc: 0.0000e+00\n",
      "Epoch 16/50\n",
      "16/16 [==============================] - 10s 595ms/step - loss: 8.7632 - acc: 0.0059 - val_loss: 11.7222 - val_acc: 0.0078\n",
      "Epoch 17/50\n",
      "16/16 [==============================] - 9s 587ms/step - loss: 8.6773 - acc: 0.0098 - val_loss: 12.0514 - val_acc: 0.0039\n",
      "Epoch 18/50\n",
      "16/16 [==============================] - 9s 575ms/step - loss: 9.4755 - acc: 0.0098 - val_loss: 10.8732 - val_acc: 0.0000e+00\n",
      "Epoch 19/50\n",
      "16/16 [==============================] - 9s 586ms/step - loss: 9.1068 - acc: 0.0039 - val_loss: 11.5535 - val_acc: 0.0039\n",
      "Epoch 20/50\n",
      "16/16 [==============================] - 10s 602ms/step - loss: 8.8711 - acc: 0.0039 - val_loss: 10.2165 - val_acc: 0.0078\n",
      "Epoch 21/50\n",
      "16/16 [==============================] - 10s 607ms/step - loss: 9.0775 - acc: 0.0059 - val_loss: 8.5719 - val_acc: 0.0039\n",
      "Epoch 22/50\n",
      "16/16 [==============================] - 9s 555ms/step - loss: 9.1070 - acc: 0.0098 - val_loss: 6.7800 - val_acc: 0.0000e+00\n",
      "Epoch 23/50\n",
      "16/16 [==============================] - 9s 580ms/step - loss: 8.4485 - acc: 0.0098 - val_loss: 6.9755 - val_acc: 0.0039\n",
      "Epoch 24/50\n",
      "16/16 [==============================] - 9s 585ms/step - loss: 8.2033 - acc: 0.0039 - val_loss: 8.1646 - val_acc: 0.0246\n",
      "Epoch 25/50\n",
      "16/16 [==============================] - 10s 603ms/step - loss: 7.8219 - acc: 0.0039 - val_loss: 8.2920 - val_acc: 0.0078\n",
      "Epoch 26/50\n",
      "16/16 [==============================] - 9s 582ms/step - loss: 8.4578 - acc: 0.0078 - val_loss: 8.3126 - val_acc: 0.0156\n",
      "Epoch 27/50\n",
      "16/16 [==============================] - 10s 605ms/step - loss: 8.0520 - acc: 0.0234 - val_loss: 7.7885 - val_acc: 0.0117\n",
      "Epoch 28/50\n",
      "16/16 [==============================] - 10s 616ms/step - loss: 8.2910 - acc: 0.0059 - val_loss: 8.1655 - val_acc: 0.0039\n",
      "Epoch 29/50\n",
      "16/16 [==============================] - 9s 574ms/step - loss: 8.6748 - acc: 0.0020 - val_loss: 8.3934 - val_acc: 0.0117\n",
      "Epoch 30/50\n",
      "16/16 [==============================] - 9s 584ms/step - loss: 8.4186 - acc: 0.0039 - val_loss: 8.7658 - val_acc: 0.0123\n",
      "Epoch 31/50\n",
      "16/16 [==============================] - 9s 577ms/step - loss: 8.4889 - acc: 0.0000e+00 - val_loss: 8.4831 - val_acc: 0.0078\n",
      "Epoch 32/50\n",
      "16/16 [==============================] - 9s 578ms/step - loss: 8.1673 - acc: 0.0020 - val_loss: 8.6721 - val_acc: 0.0078\n",
      "Epoch 33/50\n",
      "16/16 [==============================] - 10s 626ms/step - loss: 8.1195 - acc: 0.0098 - val_loss: 8.4394 - val_acc: 0.0039\n",
      "Epoch 34/50\n",
      "16/16 [==============================] - 9s 579ms/step - loss: 7.7569 - acc: 0.0059 - val_loss: 8.0235 - val_acc: 0.0039\n",
      "Epoch 35/50\n",
      "16/16 [==============================] - 9s 588ms/step - loss: 8.3745 - acc: 0.0098 - val_loss: 7.7213 - val_acc: 0.0078\n",
      "Epoch 36/50\n",
      "16/16 [==============================] - 10s 617ms/step - loss: 7.9081 - acc: 0.0059 - val_loss: 10.1917 - val_acc: 0.0041\n",
      "Epoch 37/50\n",
      "16/16 [==============================] - 10s 616ms/step - loss: 7.8321 - acc: 0.0098 - val_loss: 9.0848 - val_acc: 0.0000e+00\n",
      "Epoch 38/50\n",
      "16/16 [==============================] - 9s 558ms/step - loss: 7.4974 - acc: 0.0078 - val_loss: 7.9700 - val_acc: 0.0000e+00\n",
      "Epoch 39/50\n",
      "16/16 [==============================] - 10s 615ms/step - loss: 7.8507 - acc: 0.0039 - val_loss: 6.9757 - val_acc: 0.0039\n",
      "Epoch 40/50\n",
      "16/16 [==============================] - 10s 602ms/step - loss: 7.4056 - acc: 0.0098 - val_loss: 6.1987 - val_acc: 0.0078\n",
      "Epoch 41/50\n",
      "16/16 [==============================] - 10s 615ms/step - loss: 7.3309 - acc: 0.0039 - val_loss: 6.8070 - val_acc: 0.0039\n",
      "Epoch 42/50\n",
      "16/16 [==============================] - 10s 594ms/step - loss: 7.5091 - acc: 0.0078 - val_loss: 6.7112 - val_acc: 0.0041\n",
      "Epoch 43/50\n",
      "16/16 [==============================] - 9s 576ms/step - loss: 7.7394 - acc: 0.0098 - val_loss: 6.7592 - val_acc: 0.0000e+00\n",
      "Epoch 44/50\n",
      "16/16 [==============================] - 9s 580ms/step - loss: 7.5481 - acc: 0.0078 - val_loss: 6.5412 - val_acc: 0.0039\n",
      "Epoch 45/50\n",
      "16/16 [==============================] - 9s 557ms/step - loss: 7.2927 - acc: 0.0098 - val_loss: 6.8400 - val_acc: 0.0195\n",
      "Epoch 46/50\n",
      "16/16 [==============================] - 9s 577ms/step - loss: 7.2330 - acc: 0.0117 - val_loss: 7.1207 - val_acc: 0.0039\n",
      "Epoch 47/50\n",
      "16/16 [==============================] - 9s 583ms/step - loss: 7.5666 - acc: 0.0098 - val_loss: 7.3921 - val_acc: 0.0078\n",
      "Epoch 48/50\n",
      "16/16 [==============================] - 10s 603ms/step - loss: 7.3279 - acc: 0.0137 - val_loss: 7.2198 - val_acc: 0.0164\n",
      "Epoch 49/50\n",
      "16/16 [==============================] - 10s 608ms/step - loss: 7.3230 - acc: 0.0117 - val_loss: 7.3867 - val_acc: 0.0039\n",
      "Epoch 50/50\n",
      "16/16 [==============================] - 9s 543ms/step - loss: 7.3431 - acc: 0.0098 - val_loss: 6.6491 - val_acc: 0.0039\n"
     ]
    },
    {
     "data": {
      "text/plain": [
       "<keras.callbacks.History at 0x1527d826e48>"
      ]
     },
     "execution_count": 5,
     "metadata": {},
     "output_type": "execute_result"
    }
   ],
   "source": [
    "model.compile(loss='categorical_crossentropy', optimizer='adam', metrics=['accuracy'])\n",
    "model.fit_generator(train_it, steps_per_epoch=16, validation_data=val_it, validation_steps=8,epochs=50)"
   ]
  },
  {
   "cell_type": "code",
   "execution_count": null,
   "metadata": {},
   "outputs": [],
   "source": []
  }
 ],
 "metadata": {
  "kernelspec": {
   "display_name": "Python 3",
   "language": "python",
   "name": "python3"
  },
  "language_info": {
   "codemirror_mode": {
    "name": "ipython",
    "version": 3
   },
   "file_extension": ".py",
   "mimetype": "text/x-python",
   "name": "python",
   "nbconvert_exporter": "python",
   "pygments_lexer": "ipython3",
   "version": "3.6.8"
  }
 },
 "nbformat": 4,
 "nbformat_minor": 2
}
