{
 "cells": [
  {
   "cell_type": "markdown",
   "metadata": {},
   "source": [
    "### Preparing data"
   ]
  },
  {
   "cell_type": "code",
   "execution_count": 39,
   "metadata": {},
   "outputs": [],
   "source": [
    "import os\n",
    "import random\n",
    "import shutil\n",
    "import pandas as pd\n",
    "import cv2\n",
    "import numpy as np\n",
    "import keras"
   ]
  },
  {
   "cell_type": "code",
   "execution_count": 2,
   "metadata": {},
   "outputs": [],
   "source": [
    "class DataGenerator:\n",
    "\tDATASET_DIR = \"C:\\\\Users\\\\ASUS\\\\Documents\\\\Proyectos\\\\pokedex\\\\pokemon\"\n",
    "\n",
    "\tdef __init__(self):\n",
    "\t\tself.category_dirs = os.listdir(DataGenerator.DATASET_DIR)\n",
    "\t\tself.data = pd.DataFrame({}, columns = ['label', 'image']) \n",
    "\t\tself.data_train = pd.DataFrame({}, columns = ['label', 'image']) \n",
    "\t\tself.data_test = pd.DataFrame({}, columns = ['label', 'image']) \n",
    "        \n",
    "\tdef generate(self):\n",
    "\t\tfor category in self.category_dirs:\n",
    "\t\t\tcategory_path = os.path.join(DataGenerator.DATASET_DIR, category)\n",
    "\t\t\tif not os.path.isdir(category_path):\n",
    "\t\t\t\tprint(\"no es directorio valido\")\n",
    "\t\t\t\tcontinue\n",
    "\t\t\timages = os.listdir(category_path)\n",
    "\t\t\tbunch = pd.DataFrame({}, columns = ['label', 'image']) \n",
    "\t\t\tfor img in images:\n",
    "\t\t\t\timgArr = cv2.imread(\"pokemon\\\\\"+str(category)+\"\\\\\"+str(img))\n",
    "\t\t\t\tbunch = bunch.append({'label' : category.upper() , 'image' : imgArr},ignore_index=True)\n",
    "\t\t\t\t#self.data = self.data.append({'label' : category.upper() , 'image' : imgArr},ignore_index=True)\n",
    "\t\t\tmsk = np.random.rand(len(bunch)) < 0.8\n",
    "\t\t\tself.data_train = self.data_train.append(bunch[msk])\n",
    "\t\t\tself.data_test = self.data_test.append(bunch[~msk])"
   ]
  },
  {
   "cell_type": "code",
   "execution_count": null,
   "metadata": {},
   "outputs": [],
   "source": [
    "def createFolderIfNotExists(path):\n",
    "    try:\n",
    "        os.mkdir(path)\n",
    "    except FileExistsError:\n",
    "        #print(\"Directory data_generated already exists\")\n",
    "        return"
   ]
  },
  {
   "cell_type": "code",
   "execution_count": 32,
   "metadata": {},
   "outputs": [
    {
     "name": "stdout",
     "output_type": "stream",
     "text": [
      "numberAnomalies: 33\n"
     ]
    }
   ],
   "source": [
    "DATASET_DIR = \"C:\\\\Users\\\\ASUS\\\\Documents\\\\Proyectos\\\\pokedex\\\\pokemon\"\n",
    "numberAnomalies = 0\n",
    "for category in os.listdir(DATASET_DIR):\n",
    "    category_path = os.path.join(DataGenerator.DATASET_DIR, category)\n",
    "    if not os.path.isdir(category_path):\n",
    "        print(\"no es directorio valido\")\n",
    "        continue\n",
    "    images = os.listdir(category_path)\n",
    "    totalImgs = len(images)\n",
    "    counter = 0\n",
    "    path = \"data\"\n",
    "    createFolderIfNotExists(path)\n",
    "    for img in images:\n",
    "        tempPath = path\n",
    "        #print(counter / totalImgs)\n",
    "        if(counter / totalImgs < 0.7):\n",
    "            tempPath += \"\\\\train\"\n",
    "        elif(counter / totalImgs < 0.85):\n",
    "            tempPath += \"\\\\test\"\n",
    "        else:\n",
    "            tempPath += \"\\\\validation\"\n",
    "        createFolderIfNotExists(tempPath)\n",
    "        tempPath += \"\\\\\"+str(category)\n",
    "        createFolderIfNotExists(tempPath)\n",
    "        tempPath += \"\\\\\"+str(img)\n",
    "        imgArr = cv2.imread(\"pokemon\\\\\"+str(category)+\"\\\\\"+str(img))\n",
    "        try:\n",
    "            cv2.imwrite(tempPath, imgArr) \n",
    "        except:\n",
    "            numberAnomalies += 1\n",
    "                \n",
    "        counter += 1\n",
    "print(\"numberAnomalies: \"+str(numberAnomalies))"
   ]
  },
  {
   "cell_type": "code",
   "execution_count": 40,
   "metadata": {
    "scrolled": false
   },
   "outputs": [],
   "source": [
    "datagen = keras.preprocessing.image.ImageDataGenerator()"
   ]
  },
  {
   "cell_type": "code",
   "execution_count": 41,
   "metadata": {},
   "outputs": [
    {
     "name": "stdout",
     "output_type": "stream",
     "text": [
      "Found 7529 images belonging to 149 classes.\n",
      "Found 1524 images belonging to 149 classes.\n",
      "Found 1604 images belonging to 149 classes.\n"
     ]
    }
   ],
   "source": [
    "train_it = datagen.flow_from_directory('data\\\\train\\\\', class_mode='categorical', batch_size=64)\n",
    "val_it = datagen.flow_from_directory('data\\\\validation\\\\', class_mode='categorical', batch_size=64)\n",
    "test_it = datagen.flow_from_directory('data\\\\test\\\\', class_mode='categorical', batch_size=64)"
   ]
  }
 ],
 "metadata": {
  "kernelspec": {
   "display_name": "Python 3",
   "language": "python",
   "name": "python3"
  },
  "language_info": {
   "codemirror_mode": {
    "name": "ipython",
    "version": 3
   },
   "file_extension": ".py",
   "mimetype": "text/x-python",
   "name": "python",
   "nbconvert_exporter": "python",
   "pygments_lexer": "ipython3",
   "version": "3.6.8"
  }
 },
 "nbformat": 4,
 "nbformat_minor": 2
}
